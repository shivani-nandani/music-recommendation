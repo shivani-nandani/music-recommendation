{
 "cells": [
  {
   "cell_type": "markdown",
   "source": [
    "paper reference - [Musical genre classification of audio signals](https://ieeexplore.ieee.org/document/1021072)\r\n",
    "\r\n",
    "article reference - [Music Genre Recognition using CNN](https://towardsdatascience.com/music-genre-recognition-using-convolutional-neural-networks-cnn-part-1-212c6b93da76)"
   ],
   "metadata": {}
  },
  {
   "cell_type": "code",
   "execution_count": 5,
   "source": [
    "import tensorflow as tf\r\n",
    "import numpy as np\r\n",
    "import scipy\r\n",
    "from scipy import misc\r\n",
    "import glob\r\n",
    "from PIL import Image\r\n",
    "import os\r\n",
    "import matplotlib.pyplot as plt\r\n",
    "import librosa\r\n",
    "from keras import layers\r\n",
    "from keras.layers import (Input, Add, Dense, Activation, ZeroPadding2D, BatchNormalization, Flatten,Conv2D, AveragePooling2D, MaxPooling2D, GlobalMaxPooling2D)\r\n",
    "from keras.models import Model, load_model\r\n",
    "from keras.preprocessing import image\r\n",
    "from keras.utils import layer_utils\r\n",
    "import pydot\r\n",
    "from IPython.display import SVG\r\n",
    "from keras.utils.vis_utils import model_to_dot\r\n",
    "from keras.utils.vis_utils import plot_model\r\n",
    "from keras.optimizers import Adam\r\n",
    "from keras.initializers import glorot_uniform\r\n",
    "from matplotlib.backends.backend_agg import FigureCanvasAgg as FigureCanvas\r\n",
    "from pydub import AudioSegment\r\n",
    "import shutil\r\n",
    "from keras.preprocessing.image import ImageDataGenerator\r\n",
    "import random"
   ],
   "outputs": [],
   "metadata": {}
  },
  {
   "cell_type": "code",
   "execution_count": null,
   "source": [],
   "outputs": [],
   "metadata": {}
  }
 ],
 "metadata": {
  "orig_nbformat": 4,
  "language_info": {
   "name": "python",
   "version": "3.9.0",
   "mimetype": "text/x-python",
   "codemirror_mode": {
    "name": "ipython",
    "version": 3
   },
   "pygments_lexer": "ipython3",
   "nbconvert_exporter": "python",
   "file_extension": ".py"
  },
  "kernelspec": {
   "name": "python3",
   "display_name": "Python 3.9.0 64-bit"
  },
  "interpreter": {
   "hash": "ac59ebe37160ed0dfa835113d9b8498d9f09ceb179beaac4002f036b9467c963"
  }
 },
 "nbformat": 4,
 "nbformat_minor": 2
}